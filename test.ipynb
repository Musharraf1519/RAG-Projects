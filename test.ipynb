{
 "cells": [
  {
   "cell_type": "code",
   "execution_count": 3,
   "id": "f75777cb",
   "metadata": {},
   "outputs": [
    {
     "name": "stdout",
     "output_type": "stream",
     "text": [
      "Project structure 'rag_faiss_project' created successfully ✅\n"
     ]
    }
   ],
   "source": [
    "import os\n",
    "\n",
    "# Base project directory\n",
    "base_dir = \"rag_faiss_project\"\n",
    "\n",
    "# Subdirectories and their files\n",
    "subdirs = {\n",
    "    \"data\": [],  # Raw documents\n",
    "    \"embeddings\": [],  # FAISS index + metadata\n",
    "    \"rag\": [\n",
    "        \"ingestion.py\",\n",
    "        \"chunking.py\",\n",
    "        \"embedding.py\",\n",
    "        \"vector_store.py\",\n",
    "        \"retrieval.py\",\n",
    "        \"generation.py\"\n",
    "    ]\n",
    "}\n",
    "\n",
    "# Root files\n",
    "root_files = [\n",
    "    \"app.py\",\n",
    "    \"requirements.txt\",\n",
    "    \"README.md\"\n",
    "]\n",
    "\n",
    "# Create base directory\n",
    "os.makedirs(base_dir, exist_ok=True)\n",
    "\n",
    "# Create subdirectories and their files\n",
    "for folder, files in subdirs.items():\n",
    "    folder_path = os.path.join(base_dir, folder)\n",
    "    os.makedirs(folder_path, exist_ok=True)\n",
    "    for file in files:\n",
    "        file_path = os.path.join(folder_path, file)\n",
    "        if not os.path.exists(file_path):\n",
    "            with open(file_path, \"w\") as f:\n",
    "                f.write(f\"# {file} - add your code here\\n\")\n",
    "\n",
    "# Create root files\n",
    "for file in root_files:\n",
    "    file_path = os.path.join(base_dir, file)\n",
    "    if not os.path.exists(file_path):\n",
    "        with open(file_path, \"w\") as f:\n",
    "            if file.endswith(\".md\"):\n",
    "                f.write(f\"# {file} - Project documentation / usage guide\\n\")\n",
    "            else:\n",
    "                f.write(f\"# {file} - add your code here\\n\")\n",
    "\n",
    "print(f\"Project structure '{base_dir}' created successfully ✅\")\n"
   ]
  }
 ],
 "metadata": {
  "kernelspec": {
   "display_name": "Python 3",
   "language": "python",
   "name": "python3"
  },
  "language_info": {
   "codemirror_mode": {
    "name": "ipython",
    "version": 3
   },
   "file_extension": ".py",
   "mimetype": "text/x-python",
   "name": "python",
   "nbconvert_exporter": "python",
   "pygments_lexer": "ipython3",
   "version": "3.12.0"
  }
 },
 "nbformat": 4,
 "nbformat_minor": 5
}
